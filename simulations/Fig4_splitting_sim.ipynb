{
 "cells": [
  {
   "cell_type": "code",
   "execution_count": 1,
   "id": "3157542f-c82e-47d9-aab6-ba9696a20f70",
   "metadata": {},
   "outputs": [],
   "source": [
    "%load_ext autoreload\n",
    "%autoreload 2\n",
    "\n",
    "import numpy as np\n",
    "import torch\n",
    "\n",
    "import matplotlib.pyplot as plt \n",
    "import matplotlib \n",
    "matplotlib.rcParams.update({'font.size': 14})\n",
    "# 'text.usetex': True, 'font.family': 'Helvetica'\n",
    "%matplotlib inline\n",
    "\n",
    "from utils.models import MLP\n",
    "from utils.trainer import train_MLP\n",
    "from utils.data import create_xor_dataset\n",
    "from utils.plotting import plot_var\n",
    "\n",
    "import copy"
   ]
  }
 ],
 "metadata": {
  "kernelspec": {
   "display_name": "Python 3 (ipykernel)",
   "language": "python",
   "name": "python3"
  },
  "language_info": {
   "codemirror_mode": {
    "name": "ipython",
    "version": 3
   },
   "file_extension": ".py",
   "mimetype": "text/x-python",
   "name": "python",
   "nbconvert_exporter": "python",
   "pygments_lexer": "ipython3",
   "version": "3.10.9"
  }
 },
 "nbformat": 4,
 "nbformat_minor": 5
}
